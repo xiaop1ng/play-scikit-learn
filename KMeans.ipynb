{
 "cells": [
  {
   "cell_type": "code",
   "execution_count": 3,
   "id": "9d1c5b85",
   "metadata": {},
   "outputs": [
    {
     "name": "stdout",
     "output_type": "stream",
     "text": [
      "[1 1 1 0 0 0]\n",
      "[0]\n",
      "[[10.  2.]\n",
      " [ 1.  2.]]\n"
     ]
    }
   ],
   "source": [
    "# 使用 KMeans 完成数据聚类，无监督学习\n",
    "from sklearn.cluster import KMeans\n",
    "import numpy as np\n",
    "X = np.array([[1,2],[1,4],[1,0],\n",
    "            [10,2],[10,4],[10,0]])\n",
    "# 创建模型\n",
    "km = KMeans(n_clusters=2,random_state=0)\n",
    "# 无监督学习\n",
    "km.fit(X)\n",
    "# 分类结果\n",
    "print(km.labels_)\n",
    "# 预测\n",
    "print(km.predict([[12,3]]))\n",
    "# 聚类的中心点\n",
    "print(km.cluster_centers_)"
   ]
  },
  {
   "cell_type": "code",
   "execution_count": null,
   "id": "2c3d60af",
   "metadata": {},
   "outputs": [],
   "source": []
  }
 ],
 "metadata": {
  "kernelspec": {
   "display_name": "Python 3 (ipykernel)",
   "language": "python",
   "name": "python3"
  },
  "language_info": {
   "codemirror_mode": {
    "name": "ipython",
    "version": 3
   },
   "file_extension": ".py",
   "mimetype": "text/x-python",
   "name": "python",
   "nbconvert_exporter": "python",
   "pygments_lexer": "ipython3",
   "version": "3.7.16"
  }
 },
 "nbformat": 4,
 "nbformat_minor": 5
}
