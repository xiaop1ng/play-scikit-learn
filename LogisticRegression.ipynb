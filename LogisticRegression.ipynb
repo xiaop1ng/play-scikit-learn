{
 "cells": [
  {
   "cell_type": "code",
   "execution_count": 6,
   "id": "d8d1511b",
   "metadata": {},
   "outputs": [
    {
     "name": "stdout",
     "output_type": "stream",
     "text": [
      "[[1.04696747]]\n",
      "[-0.60712442]\n"
     ]
    }
   ],
   "source": [
    "from sklearn import linear_model as lr\n",
    "reg = lr.LogisticRegression()\n",
    "X = [[-2],[-1], [0], [1], [2], [100]]\n",
    "# 二分逻辑回归，结果只有 0 和 1 两种\n",
    "y = [0,0,0,1,1,1]\n",
    "# 输入训练数据\n",
    "reg.fit(X, y)\n",
    "print(reg.coef_)\n",
    "print(reg.intercept_)"
   ]
  },
  {
   "cell_type": "code",
   "execution_count": 4,
   "id": "4db0ddbd",
   "metadata": {},
   "outputs": [
    {
     "name": "stdout",
     "output_type": "stream",
     "text": [
      "[1 1 1 0]\n"
     ]
    }
   ],
   "source": [
    "# 预测情况\n",
    "y_pred = reg.predict([[105],[6],[5007],[-5]])\n",
    "print(y_pred)"
   ]
  },
  {
   "cell_type": "code",
   "execution_count": null,
   "id": "e306d432",
   "metadata": {},
   "outputs": [],
   "source": []
  }
 ],
 "metadata": {
  "kernelspec": {
   "display_name": "Python 3 (ipykernel)",
   "language": "python",
   "name": "python3"
  },
  "language_info": {
   "codemirror_mode": {
    "name": "ipython",
    "version": 3
   },
   "file_extension": ".py",
   "mimetype": "text/x-python",
   "name": "python",
   "nbconvert_exporter": "python",
   "pygments_lexer": "ipython3",
   "version": "3.7.16"
  }
 },
 "nbformat": 4,
 "nbformat_minor": 5
}
