{
 "cells": [
  {
   "cell_type": "code",
   "execution_count": 6,
   "id": "d8d1511b",
   "metadata": {},
   "outputs": [
    {
     "name": "stdout",
     "output_type": "stream",
     "text": [
      "[[1.04696747]]\n",
      "[-0.60712442]\n"
     ]
    }
   ],
   "source": [
    "from sklearn import linear_model as lr\n",
    "reg = lr.LogisticRegression()\n",
    "X = [[-2],[-1], [0], [1], [2], [100]]\n",
    "# 二分逻辑回归，结果只有 0 和 1 两种\n",
    "y = [0,0,0,1,1,1]\n",
    "# 输入训练数据\n",
    "reg.fit(X, y)\n",
    "print(reg.coef_)\n",
    "print(reg.intercept_)"
   ]
  },
  {
   "cell_type": "code",
   "execution_count": 4,
   "id": "488def37",
   "metadata": {},
   "outputs": [
    {
     "name": "stdout",
     "output_type": "stream",
     "text": [
      "[1 1 1 0]\n"
     ]
    }
   ],
   "source": [
    "# 预测情况\n",
    "y_pred = reg.predict([[105],[6],[5007],[-5]])\n",
    "print(y_pred)"
   ]
  },
  {
   "cell_type": "code",
   "execution_count": 8,
   "id": "01198670",
   "metadata": {},
   "outputs": [
    {
     "name": "stdout",
     "output_type": "stream",
     "text": [
      "[0 0 0 1 1 1]\n",
      "0.0\n",
      "1.0\n"
     ]
    }
   ],
   "source": [
    "# 模型评估\n",
    "from sklearn import metrics\n",
    "\n",
    "y_pred = reg.predict(X)\n",
    "print(y_pred)\n",
    "# 均方误差 MSR\n",
    "print(metrics.mean_squared_error(y, y_pred))\n",
    "# 准确性得分\n",
    "print(metrics.accuracy_score(y, y_pred))"
   ]
  },
  {
   "cell_type": "code",
   "execution_count": null,
   "id": "11a5dea6",
   "metadata": {},
   "outputs": [],
   "source": [
    "# 二阶模型"
   ]
  }
 ],
 "metadata": {
  "kernelspec": {
   "display_name": "Python 3 (ipykernel)",
   "language": "python",
   "name": "python3"
  },
  "language_info": {
   "codemirror_mode": {
    "name": "ipython",
    "version": 3
   },
   "file_extension": ".py",
   "mimetype": "text/x-python",
   "name": "python",
   "nbconvert_exporter": "python",
   "pygments_lexer": "ipython3",
   "version": "3.7.16"
  }
 },
 "nbformat": 4,
 "nbformat_minor": 5
}
